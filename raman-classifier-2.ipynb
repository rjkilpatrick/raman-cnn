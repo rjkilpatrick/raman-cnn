{
 "cells": [
  {
   "cell_type": "code",
   "execution_count": 1,
   "metadata": {},
   "outputs": [],
   "source": [
    "import torch\n",
    "import torch.nn as nn\n",
    "import torch.optim as optim\n",
    "from torch.nn.functional import cross_entropy\n",
    "from torch.utils.data import Dataset, DataLoader, random_split\n",
    "import numpy as np\n",
    "from pathlib import Path\n",
    "import matplotlib.pyplot as plt\n",
    "import lightning as pl\n",
    "\n",
    "import torch.nn.functional as F\n",
    "import torchmetrics\n"
   ]
  },
  {
   "cell_type": "code",
   "execution_count": 2,
   "metadata": {},
   "outputs": [],
   "source": [
    "def create_label_encoder(labels):\n",
    "    from functools import singledispatch\n",
    "    unique_labels = sorted(set(labels))\n",
    "    unique_labels = [unique_label.upper() for unique_label in unique_labels]\n",
    "    num_classes = len(unique_labels)\n",
    "\n",
    "    # Two way dictionary hack\n",
    "    label_to_int = {label: i for i, label in enumerate(unique_labels)}\n",
    "    int_to_label = {i: label for label, i in label_to_int.items()}\n",
    "\n",
    "    identity_matrix = np.eye(num_classes)\n",
    "\n",
    "    @singledispatch\n",
    "    def one_hot_encoder(y):\n",
    "        raise NotImplementedError(\"Unsupported input type\")\n",
    "\n",
    "    @one_hot_encoder.register(list)\n",
    "    @one_hot_encoder.register(np.ndarray)\n",
    "    def _one_hot_list_encoder(y):\n",
    "        encoded_labels = [label_to_int[label] for label in y]\n",
    "        one_hot_labels = identity_matrix[encoded_labels]\n",
    "        return one_hot_labels\n",
    "\n",
    "    @one_hot_encoder.register(int)\n",
    "    def _(y):\n",
    "        if y < 0 or y >= num_classes:\n",
    "            raise ValueError(f\"y is out of range for {num_classes} classes\")\n",
    "        one_hot_label = identity_matrix[y]\n",
    "        return one_hot_label\n",
    "\n",
    "    @one_hot_encoder.register(str)\n",
    "    def _one_hot_str_encoder(y):\n",
    "        # Sanitize\n",
    "        y = y.upper()\n",
    "        if y not in unique_labels:\n",
    "            raise ValueError(f\"{y} not in labels\")\n",
    "\n",
    "        # Assuming a single string label\n",
    "        encoded_label = label_to_int[y]\n",
    "        one_hot_label = identity_matrix[encoded_label]\n",
    "        return one_hot_label\n",
    "\n",
    "    @singledispatch\n",
    "    def one_hot_decoder(encoded_labels):\n",
    "        raise NotImplementedError(\"Unsupported input type\")\n",
    "\n",
    "    @one_hot_decoder.register(torch.Tensor)\n",
    "    def _one_hot_torch_decoder(encoded_labels):\n",
    "        return one_hot_decoder(encoded_labels.numpy())\n",
    "\n",
    "    @one_hot_decoder.register(np.ndarray)\n",
    "    def _one_hot_np_decoder(encoded_labels):\n",
    "        if encoded_labels.ndim > 2:\n",
    "            decoded_labels = [int_to_label[i]\n",
    "                              for i in np.argmax(encoded_labels, axis=-1)]\n",
    "        else:\n",
    "            decoded_labels = int_to_label[np.argmax(encoded_labels, axis=-1)]\n",
    "        return decoded_labels\n",
    "\n",
    "    return one_hot_encoder, one_hot_decoder, num_classes"
   ]
  },
  {
   "cell_type": "code",
   "execution_count": 3,
   "metadata": {},
   "outputs": [],
   "source": [
    "class RamanDataset(Dataset):\n",
    "    def __init__(self, x_data, y_data):\n",
    "        self.x_data = x_data\n",
    "        self.y_data = y_data\n",
    "\n",
    "    def __len__(self):\n",
    "        return len(self.x_data)\n",
    "\n",
    "    def __getitem__(self, idx):\n",
    "        x = torch.from_numpy(self.x_data[idx]).float()\n",
    "        y = torch.from_numpy(self.y_data[idx]).float()\n",
    "        return x, y"
   ]
  },
  {
   "cell_type": "code",
   "execution_count": 4,
   "metadata": {},
   "outputs": [],
   "source": [
    "class RamanSpectraDataModule(pl.LightningDataModule):\n",
    "    def __init__(self, data_dir: Path, batch_size: int = 128):\n",
    "        super().__init__()\n",
    "        self.data_dir = Path(data_dir)\n",
    "        self.batch_size = batch_size\n",
    "        self.x_data_raw = []\n",
    "        self.y_data_raw = []\n",
    "\n",
    "    def load_data(self):\n",
    "        datasets = list(self.data_dir.rglob(\"*.csv\"))\n",
    "\n",
    "        for file in datasets:\n",
    "            data = np.loadtxt(file, comments='#', delimiter=',')\n",
    "            self.x_data_raw.append(data)\n",
    "\n",
    "            for row in data:\n",
    "                self.y_data_raw.append(file.parent.stem.split(\"-\")[0])\n",
    "\n",
    "        self.x_data = np.concatenate(self.x_data_raw, axis=0)\n",
    "        self.y_data = np.array(self.y_data_raw)\n",
    "\n",
    "        self.classification_list = sorted(set(self.y_data))\n",
    "        self.label_encoder, _, _ = create_label_encoder(\n",
    "            self.classification_list)\n",
    "        self.y_data_encoded = self.label_encoder(self.y_data)\n",
    "\n",
    "    def standard_scaler(self, x):\n",
    "        mean_ = np.mean(x, axis=-1, keepdims=True)\n",
    "        scale_ = np.std(x, axis=-1, keepdims=True)\n",
    "        standardized_data = (x - mean_) / scale_\n",
    "        return standardized_data\n",
    "\n",
    "    def prepare_data(self):\n",
    "        self.load_data()\n",
    "        self.x_data = self.standard_scaler(self.x_data)\n",
    "        self.dataset = RamanDataset(self.x_data, self.y_data_encoded)\n",
    "\n",
    "    def setup(self, stage=None):\n",
    "        if stage == 'fit' or stage is None:\n",
    "            # Split into train, validation, and test sets\n",
    "            train_length = int(len(self.dataset) * 0.8)\n",
    "            val_length = int(len(self.dataset) * 0.1)\n",
    "            test_length = len(self.dataset) - (train_length + val_length)\n",
    "            lengths = [train_length, val_length, test_length]\n",
    "\n",
    "            self.train_dataset, self.val_dataset, self.test_dataset = random_split(\n",
    "                self.dataset, lengths, generator=torch.Generator().manual_seed(42))\n",
    "\n",
    "    def train_dataloader(self):\n",
    "        return DataLoader(self.train_dataset, batch_size=self.batch_size, shuffle=True)\n",
    "\n",
    "    def val_dataloader(self):\n",
    "        return DataLoader(self.val_dataset, batch_size=self.batch_size, shuffle=False)\n",
    "\n",
    "    def test_dataloader(self):\n",
    "        return DataLoader(self.test_dataset, batch_size=self.batch_size, shuffle=False)"
   ]
  },
  {
   "cell_type": "code",
   "execution_count": 5,
   "metadata": {},
   "outputs": [],
   "source": [
    "datamodule = RamanSpectraDataModule(\"./Dataset/cells-raman-spectra/dataset_i/\")"
   ]
  },
  {
   "cell_type": "code",
   "execution_count": 11,
   "metadata": {},
   "outputs": [],
   "source": [
    "class LightningClassifier(pl.LightningModule):\n",
    "    def __init__(self, input_size, num_classes, lr=1.e-3):\n",
    "        super().__init__()\n",
    "\n",
    "        # Model\n",
    "        self.fc1 = nn.Linear(input_size, 256)\n",
    "        self.fc2 = nn.Linear(256, 64)\n",
    "        self.fc3 = nn.Linear(64, 32)\n",
    "        self.fc4 = nn.Linear(32, num_classes)\n",
    "\n",
    "        self.accuracy = torchmetrics.classification.Accuracy(\n",
    "            task=\"multiclass\", num_classes=num_classes)\n",
    "        self.lr = lr\n",
    "\n",
    "    def forward(self, x):\n",
    "        x = torch.sigmoid(self.fc1(x))\n",
    "        x = torch.sigmoid(self.fc2(x))\n",
    "        x = torch.sigmoid(self.fc3(x))\n",
    "        x = self.fc4(x)\n",
    "        return x\n",
    "\n",
    "    def training_step(self, batch, batch_idx):\n",
    "        x, y = batch\n",
    "        y_hat = self(x)\n",
    "        loss = F.mse_loss(y_hat, y)\n",
    "\n",
    "        self.accuracy(y_hat, y)\n",
    "        self.log('train_acc_step', self.accuracy, prog_bar=True)\n",
    "\n",
    "        return loss\n",
    "\n",
    "    def validation_step(self, batch, batch_idx):\n",
    "        x, y = batch\n",
    "        y_hat = self(x)\n",
    "        loss = F.mse_loss(y_hat, y)\n",
    "        return loss\n",
    "\n",
    "    def test_step(self, batch, batch_idx):\n",
    "        x, y = batch\n",
    "        y_hat = self(x)\n",
    "        loss = F.mse_loss(y_hat, y)\n",
    "        return loss\n",
    "\n",
    "    def configure_optimizers(self):\n",
    "        optimizer = optim.Adam(self.parameters(), lr=self.lr)\n",
    "        stepping_batches = self.trainer.estimated_stepping_batches\n",
    "        scheduler = torch.optim.lr_scheduler.OneCycleLR(\n",
    "            optimizer, max_lr=1e-3, total_steps=stepping_batches)\n",
    "        return [optimizer], [scheduler]\n",
    "\n",
    "    def on_train_epoch_end(self):\n",
    "        # log epoch metric\n",
    "        self.log('train_acc_epoch', self.accuracy)"
   ]
  },
  {
   "cell_type": "code",
   "execution_count": 12,
   "metadata": {},
   "outputs": [
    {
     "name": "stderr",
     "output_type": "stream",
     "text": [
      "GPU available: False, used: False\n",
      "TPU available: False, using: 0 TPU cores\n",
      "IPU available: False, using: 0 IPUs\n",
      "HPU available: False, using: 0 HPUs\n"
     ]
    }
   ],
   "source": [
    "input_shape = 2090  # todo: fix\n",
    "num_classes = 6  # todo: fix\n",
    "\n",
    "# PyTorch Lightning Trainer\n",
    "trainer = pl.Trainer(max_epochs=50)\n",
    "lightning_model = LightningClassifier(input_shape, num_classes)"
   ]
  },
  {
   "cell_type": "code",
   "execution_count": 13,
   "metadata": {},
   "outputs": [
    {
     "name": "stderr",
     "output_type": "stream",
     "text": [
      "Loading `train_dataloader` to estimate number of stepping batches.\n",
      "c:\\Users\\rjk217\\Miniconda3\\envs\\guidestar\\lib\\site-packages\\lightning\\pytorch\\trainer\\connectors\\data_connector.py:441: The 'train_dataloader' does not have many workers which may be a bottleneck. Consider increasing the value of the `num_workers` argument` to `num_workers=23` in the `DataLoader` to improve performance.\n",
      "c:\\Users\\rjk217\\Miniconda3\\envs\\guidestar\\lib\\site-packages\\lightning\\pytorch\\loops\\fit_loop.py:293: The number of training batches (37) is smaller than the logging interval Trainer(log_every_n_steps=50). Set a lower value for log_every_n_steps if you want to see logs for the training epoch.\n",
      "\n",
      "  | Name     | Type               | Params\n",
      "------------------------------------------------\n",
      "0 | fc1      | Linear             | 535 K \n",
      "1 | fc2      | Linear             | 16.4 K\n",
      "2 | fc3      | Linear             | 2.1 K \n",
      "3 | fc4      | Linear             | 198   \n",
      "4 | accuracy | MulticlassAccuracy | 0     \n",
      "------------------------------------------------\n",
      "554 K     Trainable params\n",
      "0         Non-trainable params\n",
      "554 K     Total params\n",
      "2.216     Total estimated model params size (MB)\n"
     ]
    },
    {
     "data": {
      "application/vnd.jupyter.widget-view+json": {
       "model_id": "d12b870b08954a50828aa331022861fe",
       "version_major": 2,
       "version_minor": 0
      },
      "text/plain": [
       "Sanity Checking: |          | 0/? [00:00<?, ?it/s]"
      ]
     },
     "metadata": {},
     "output_type": "display_data"
    },
    {
     "name": "stderr",
     "output_type": "stream",
     "text": [
      "c:\\Users\\rjk217\\Miniconda3\\envs\\guidestar\\lib\\site-packages\\lightning\\pytorch\\trainer\\connectors\\data_connector.py:441: The 'val_dataloader' does not have many workers which may be a bottleneck. Consider increasing the value of the `num_workers` argument` to `num_workers=23` in the `DataLoader` to improve performance.\n"
     ]
    },
    {
     "data": {
      "application/vnd.jupyter.widget-view+json": {
       "model_id": "bd2452af97604432af4daeb8ede498c8",
       "version_major": 2,
       "version_minor": 0
      },
      "text/plain": [
       "Training: |          | 0/? [00:00<?, ?it/s]"
      ]
     },
     "metadata": {},
     "output_type": "display_data"
    },
    {
     "data": {
      "application/vnd.jupyter.widget-view+json": {
       "model_id": "e37ca52e163143fb85d34f52db35b2e1",
       "version_major": 2,
       "version_minor": 0
      },
      "text/plain": [
       "Validation: |          | 0/? [00:00<?, ?it/s]"
      ]
     },
     "metadata": {},
     "output_type": "display_data"
    },
    {
     "data": {
      "application/vnd.jupyter.widget-view+json": {
       "model_id": "c893e6d51ebf4bf1a8ee42b96e2b6309",
       "version_major": 2,
       "version_minor": 0
      },
      "text/plain": [
       "Validation: |          | 0/? [00:00<?, ?it/s]"
      ]
     },
     "metadata": {},
     "output_type": "display_data"
    },
    {
     "data": {
      "application/vnd.jupyter.widget-view+json": {
       "model_id": "5547c09a6599474e9a2596f3a44c899a",
       "version_major": 2,
       "version_minor": 0
      },
      "text/plain": [
       "Validation: |          | 0/? [00:00<?, ?it/s]"
      ]
     },
     "metadata": {},
     "output_type": "display_data"
    },
    {
     "data": {
      "application/vnd.jupyter.widget-view+json": {
       "model_id": "1b07489fe2b444da9bde8e55635ca044",
       "version_major": 2,
       "version_minor": 0
      },
      "text/plain": [
       "Validation: |          | 0/? [00:00<?, ?it/s]"
      ]
     },
     "metadata": {},
     "output_type": "display_data"
    },
    {
     "data": {
      "application/vnd.jupyter.widget-view+json": {
       "model_id": "2b8a1392620e4ed7bb2f4fed4119d4b7",
       "version_major": 2,
       "version_minor": 0
      },
      "text/plain": [
       "Validation: |          | 0/? [00:00<?, ?it/s]"
      ]
     },
     "metadata": {},
     "output_type": "display_data"
    },
    {
     "data": {
      "application/vnd.jupyter.widget-view+json": {
       "model_id": "abeffa4575a042ef8d67d26123a3f32a",
       "version_major": 2,
       "version_minor": 0
      },
      "text/plain": [
       "Validation: |          | 0/? [00:00<?, ?it/s]"
      ]
     },
     "metadata": {},
     "output_type": "display_data"
    },
    {
     "data": {
      "application/vnd.jupyter.widget-view+json": {
       "model_id": "a8b33041c9c1446ba900d6384350c984",
       "version_major": 2,
       "version_minor": 0
      },
      "text/plain": [
       "Validation: |          | 0/? [00:00<?, ?it/s]"
      ]
     },
     "metadata": {},
     "output_type": "display_data"
    },
    {
     "data": {
      "application/vnd.jupyter.widget-view+json": {
       "model_id": "dea30da236034f5980a6f97257e8e8b9",
       "version_major": 2,
       "version_minor": 0
      },
      "text/plain": [
       "Validation: |          | 0/? [00:00<?, ?it/s]"
      ]
     },
     "metadata": {},
     "output_type": "display_data"
    },
    {
     "data": {
      "application/vnd.jupyter.widget-view+json": {
       "model_id": "e0ee69b3fcb74be7b2db64b9af18533c",
       "version_major": 2,
       "version_minor": 0
      },
      "text/plain": [
       "Validation: |          | 0/? [00:00<?, ?it/s]"
      ]
     },
     "metadata": {},
     "output_type": "display_data"
    },
    {
     "data": {
      "application/vnd.jupyter.widget-view+json": {
       "model_id": "606ad80d365f48a0af7cbc0e4df5e88b",
       "version_major": 2,
       "version_minor": 0
      },
      "text/plain": [
       "Validation: |          | 0/? [00:00<?, ?it/s]"
      ]
     },
     "metadata": {},
     "output_type": "display_data"
    },
    {
     "data": {
      "application/vnd.jupyter.widget-view+json": {
       "model_id": "fad725f7b9c8438c95c9666206a0ca8d",
       "version_major": 2,
       "version_minor": 0
      },
      "text/plain": [
       "Validation: |          | 0/? [00:00<?, ?it/s]"
      ]
     },
     "metadata": {},
     "output_type": "display_data"
    },
    {
     "data": {
      "application/vnd.jupyter.widget-view+json": {
       "model_id": "bc2c0d80ce42446490faf15d417e544d",
       "version_major": 2,
       "version_minor": 0
      },
      "text/plain": [
       "Validation: |          | 0/? [00:00<?, ?it/s]"
      ]
     },
     "metadata": {},
     "output_type": "display_data"
    },
    {
     "data": {
      "application/vnd.jupyter.widget-view+json": {
       "model_id": "9fc90ff60e394d6b8f0ab36280872444",
       "version_major": 2,
       "version_minor": 0
      },
      "text/plain": [
       "Validation: |          | 0/? [00:00<?, ?it/s]"
      ]
     },
     "metadata": {},
     "output_type": "display_data"
    },
    {
     "data": {
      "application/vnd.jupyter.widget-view+json": {
       "model_id": "259a299756ed462db9cec15d7f5c1829",
       "version_major": 2,
       "version_minor": 0
      },
      "text/plain": [
       "Validation: |          | 0/? [00:00<?, ?it/s]"
      ]
     },
     "metadata": {},
     "output_type": "display_data"
    },
    {
     "data": {
      "application/vnd.jupyter.widget-view+json": {
       "model_id": "682035234b8e4030ac57a4a7cc99ea6e",
       "version_major": 2,
       "version_minor": 0
      },
      "text/plain": [
       "Validation: |          | 0/? [00:00<?, ?it/s]"
      ]
     },
     "metadata": {},
     "output_type": "display_data"
    },
    {
     "data": {
      "application/vnd.jupyter.widget-view+json": {
       "model_id": "d45a59dad22c422dab137f905cf3cb34",
       "version_major": 2,
       "version_minor": 0
      },
      "text/plain": [
       "Validation: |          | 0/? [00:00<?, ?it/s]"
      ]
     },
     "metadata": {},
     "output_type": "display_data"
    },
    {
     "data": {
      "application/vnd.jupyter.widget-view+json": {
       "model_id": "97078e0430c64571a5dd50d29b503ce3",
       "version_major": 2,
       "version_minor": 0
      },
      "text/plain": [
       "Validation: |          | 0/? [00:00<?, ?it/s]"
      ]
     },
     "metadata": {},
     "output_type": "display_data"
    },
    {
     "data": {
      "application/vnd.jupyter.widget-view+json": {
       "model_id": "7aaa321478004aef926736264ed1369f",
       "version_major": 2,
       "version_minor": 0
      },
      "text/plain": [
       "Validation: |          | 0/? [00:00<?, ?it/s]"
      ]
     },
     "metadata": {},
     "output_type": "display_data"
    },
    {
     "data": {
      "application/vnd.jupyter.widget-view+json": {
       "model_id": "43b73c349836494c96bd60ac8d43d937",
       "version_major": 2,
       "version_minor": 0
      },
      "text/plain": [
       "Validation: |          | 0/? [00:00<?, ?it/s]"
      ]
     },
     "metadata": {},
     "output_type": "display_data"
    },
    {
     "data": {
      "application/vnd.jupyter.widget-view+json": {
       "model_id": "2f6d356f723c4171a059276171119bfc",
       "version_major": 2,
       "version_minor": 0
      },
      "text/plain": [
       "Validation: |          | 0/? [00:00<?, ?it/s]"
      ]
     },
     "metadata": {},
     "output_type": "display_data"
    },
    {
     "data": {
      "application/vnd.jupyter.widget-view+json": {
       "model_id": "5493f204de5945569ee244609ebd5b1d",
       "version_major": 2,
       "version_minor": 0
      },
      "text/plain": [
       "Validation: |          | 0/? [00:00<?, ?it/s]"
      ]
     },
     "metadata": {},
     "output_type": "display_data"
    },
    {
     "data": {
      "application/vnd.jupyter.widget-view+json": {
       "model_id": "da87eb84866842fabd8eb7ca504a1d6f",
       "version_major": 2,
       "version_minor": 0
      },
      "text/plain": [
       "Validation: |          | 0/? [00:00<?, ?it/s]"
      ]
     },
     "metadata": {},
     "output_type": "display_data"
    },
    {
     "data": {
      "application/vnd.jupyter.widget-view+json": {
       "model_id": "99883dea100443efa57c5be51bd4359f",
       "version_major": 2,
       "version_minor": 0
      },
      "text/plain": [
       "Validation: |          | 0/? [00:00<?, ?it/s]"
      ]
     },
     "metadata": {},
     "output_type": "display_data"
    },
    {
     "data": {
      "application/vnd.jupyter.widget-view+json": {
       "model_id": "fb95db18524a4fdba84e99d84b43bf97",
       "version_major": 2,
       "version_minor": 0
      },
      "text/plain": [
       "Validation: |          | 0/? [00:00<?, ?it/s]"
      ]
     },
     "metadata": {},
     "output_type": "display_data"
    },
    {
     "data": {
      "application/vnd.jupyter.widget-view+json": {
       "model_id": "2effd1429fc446e3828975314bacbe6d",
       "version_major": 2,
       "version_minor": 0
      },
      "text/plain": [
       "Validation: |          | 0/? [00:00<?, ?it/s]"
      ]
     },
     "metadata": {},
     "output_type": "display_data"
    },
    {
     "data": {
      "application/vnd.jupyter.widget-view+json": {
       "model_id": "c4fe7af4e6b345419afbaf5fa9c74af3",
       "version_major": 2,
       "version_minor": 0
      },
      "text/plain": [
       "Validation: |          | 0/? [00:00<?, ?it/s]"
      ]
     },
     "metadata": {},
     "output_type": "display_data"
    },
    {
     "data": {
      "application/vnd.jupyter.widget-view+json": {
       "model_id": "5f0df5c647294458b7663c3db48b1068",
       "version_major": 2,
       "version_minor": 0
      },
      "text/plain": [
       "Validation: |          | 0/? [00:00<?, ?it/s]"
      ]
     },
     "metadata": {},
     "output_type": "display_data"
    },
    {
     "data": {
      "application/vnd.jupyter.widget-view+json": {
       "model_id": "e334729306e94051a91a07dd02af74cf",
       "version_major": 2,
       "version_minor": 0
      },
      "text/plain": [
       "Validation: |          | 0/? [00:00<?, ?it/s]"
      ]
     },
     "metadata": {},
     "output_type": "display_data"
    },
    {
     "data": {
      "application/vnd.jupyter.widget-view+json": {
       "model_id": "8f4553b0d84f4cfd990c0fc06b25a710",
       "version_major": 2,
       "version_minor": 0
      },
      "text/plain": [
       "Validation: |          | 0/? [00:00<?, ?it/s]"
      ]
     },
     "metadata": {},
     "output_type": "display_data"
    },
    {
     "data": {
      "application/vnd.jupyter.widget-view+json": {
       "model_id": "1bd37c67b95d40688a375f1912def3ca",
       "version_major": 2,
       "version_minor": 0
      },
      "text/plain": [
       "Validation: |          | 0/? [00:00<?, ?it/s]"
      ]
     },
     "metadata": {},
     "output_type": "display_data"
    },
    {
     "data": {
      "application/vnd.jupyter.widget-view+json": {
       "model_id": "827b8c41379a49d184d6817753c4c6bf",
       "version_major": 2,
       "version_minor": 0
      },
      "text/plain": [
       "Validation: |          | 0/? [00:00<?, ?it/s]"
      ]
     },
     "metadata": {},
     "output_type": "display_data"
    },
    {
     "data": {
      "application/vnd.jupyter.widget-view+json": {
       "model_id": "c2d4a5129d7a45a9b80bbefece89ab1e",
       "version_major": 2,
       "version_minor": 0
      },
      "text/plain": [
       "Validation: |          | 0/? [00:00<?, ?it/s]"
      ]
     },
     "metadata": {},
     "output_type": "display_data"
    },
    {
     "data": {
      "application/vnd.jupyter.widget-view+json": {
       "model_id": "0a09ea909d5246218339f9225af10274",
       "version_major": 2,
       "version_minor": 0
      },
      "text/plain": [
       "Validation: |          | 0/? [00:00<?, ?it/s]"
      ]
     },
     "metadata": {},
     "output_type": "display_data"
    },
    {
     "data": {
      "application/vnd.jupyter.widget-view+json": {
       "model_id": "cb1043b8b2a847b9badf09a7baa98bfc",
       "version_major": 2,
       "version_minor": 0
      },
      "text/plain": [
       "Validation: |          | 0/? [00:00<?, ?it/s]"
      ]
     },
     "metadata": {},
     "output_type": "display_data"
    },
    {
     "data": {
      "application/vnd.jupyter.widget-view+json": {
       "model_id": "8810b63066af42fd9c4304c1c58cb0e9",
       "version_major": 2,
       "version_minor": 0
      },
      "text/plain": [
       "Validation: |          | 0/? [00:00<?, ?it/s]"
      ]
     },
     "metadata": {},
     "output_type": "display_data"
    },
    {
     "data": {
      "application/vnd.jupyter.widget-view+json": {
       "model_id": "875ccebdad7c41f6933b2d2c03d7cf4d",
       "version_major": 2,
       "version_minor": 0
      },
      "text/plain": [
       "Validation: |          | 0/? [00:00<?, ?it/s]"
      ]
     },
     "metadata": {},
     "output_type": "display_data"
    },
    {
     "data": {
      "application/vnd.jupyter.widget-view+json": {
       "model_id": "a3d597141ae64913a8bb21f500f4d585",
       "version_major": 2,
       "version_minor": 0
      },
      "text/plain": [
       "Validation: |          | 0/? [00:00<?, ?it/s]"
      ]
     },
     "metadata": {},
     "output_type": "display_data"
    },
    {
     "data": {
      "application/vnd.jupyter.widget-view+json": {
       "model_id": "1c7c87231eda4e1d89551dc3a3408dcd",
       "version_major": 2,
       "version_minor": 0
      },
      "text/plain": [
       "Validation: |          | 0/? [00:00<?, ?it/s]"
      ]
     },
     "metadata": {},
     "output_type": "display_data"
    },
    {
     "data": {
      "application/vnd.jupyter.widget-view+json": {
       "model_id": "4bd34cbbfce649289fd9c17c8304a6a1",
       "version_major": 2,
       "version_minor": 0
      },
      "text/plain": [
       "Validation: |          | 0/? [00:00<?, ?it/s]"
      ]
     },
     "metadata": {},
     "output_type": "display_data"
    },
    {
     "data": {
      "application/vnd.jupyter.widget-view+json": {
       "model_id": "dac0cae46424435face7902644aa6e51",
       "version_major": 2,
       "version_minor": 0
      },
      "text/plain": [
       "Validation: |          | 0/? [00:00<?, ?it/s]"
      ]
     },
     "metadata": {},
     "output_type": "display_data"
    },
    {
     "data": {
      "application/vnd.jupyter.widget-view+json": {
       "model_id": "513073cbe0694e8cbffffe7425050961",
       "version_major": 2,
       "version_minor": 0
      },
      "text/plain": [
       "Validation: |          | 0/? [00:00<?, ?it/s]"
      ]
     },
     "metadata": {},
     "output_type": "display_data"
    },
    {
     "data": {
      "application/vnd.jupyter.widget-view+json": {
       "model_id": "8bc7309c4c074aacb4cbd9df5a1014a5",
       "version_major": 2,
       "version_minor": 0
      },
      "text/plain": [
       "Validation: |          | 0/? [00:00<?, ?it/s]"
      ]
     },
     "metadata": {},
     "output_type": "display_data"
    },
    {
     "data": {
      "application/vnd.jupyter.widget-view+json": {
       "model_id": "66ed428073b54e74b1786b253fe955f9",
       "version_major": 2,
       "version_minor": 0
      },
      "text/plain": [
       "Validation: |          | 0/? [00:00<?, ?it/s]"
      ]
     },
     "metadata": {},
     "output_type": "display_data"
    },
    {
     "data": {
      "application/vnd.jupyter.widget-view+json": {
       "model_id": "224f60f8f4334a3d9d908e47f10abc58",
       "version_major": 2,
       "version_minor": 0
      },
      "text/plain": [
       "Validation: |          | 0/? [00:00<?, ?it/s]"
      ]
     },
     "metadata": {},
     "output_type": "display_data"
    },
    {
     "data": {
      "application/vnd.jupyter.widget-view+json": {
       "model_id": "3840bc46d874483bbc1d4d670f007de4",
       "version_major": 2,
       "version_minor": 0
      },
      "text/plain": [
       "Validation: |          | 0/? [00:00<?, ?it/s]"
      ]
     },
     "metadata": {},
     "output_type": "display_data"
    },
    {
     "data": {
      "application/vnd.jupyter.widget-view+json": {
       "model_id": "d6f2008f28f544d09a684ce35102f995",
       "version_major": 2,
       "version_minor": 0
      },
      "text/plain": [
       "Validation: |          | 0/? [00:00<?, ?it/s]"
      ]
     },
     "metadata": {},
     "output_type": "display_data"
    },
    {
     "data": {
      "application/vnd.jupyter.widget-view+json": {
       "model_id": "9a585daea24e4313b635fe52f24d2bd8",
       "version_major": 2,
       "version_minor": 0
      },
      "text/plain": [
       "Validation: |          | 0/? [00:00<?, ?it/s]"
      ]
     },
     "metadata": {},
     "output_type": "display_data"
    },
    {
     "data": {
      "application/vnd.jupyter.widget-view+json": {
       "model_id": "57bd8d3c5f664e3590470a7485a788c3",
       "version_major": 2,
       "version_minor": 0
      },
      "text/plain": [
       "Validation: |          | 0/? [00:00<?, ?it/s]"
      ]
     },
     "metadata": {},
     "output_type": "display_data"
    },
    {
     "data": {
      "application/vnd.jupyter.widget-view+json": {
       "model_id": "20c09b6d31a34598849a5234e8eb37ae",
       "version_major": 2,
       "version_minor": 0
      },
      "text/plain": [
       "Validation: |          | 0/? [00:00<?, ?it/s]"
      ]
     },
     "metadata": {},
     "output_type": "display_data"
    },
    {
     "data": {
      "application/vnd.jupyter.widget-view+json": {
       "model_id": "c82fa4ef94dc436cab246744e142b682",
       "version_major": 2,
       "version_minor": 0
      },
      "text/plain": [
       "Validation: |          | 0/? [00:00<?, ?it/s]"
      ]
     },
     "metadata": {},
     "output_type": "display_data"
    },
    {
     "name": "stderr",
     "output_type": "stream",
     "text": [
      "`Trainer.fit` stopped: `max_epochs=50` reached.\n"
     ]
    }
   ],
   "source": [
    "# Train the model\n",
    "trainer.fit(lightning_model, datamodule=datamodule)"
   ]
  },
  {
   "cell_type": "code",
   "execution_count": 14,
   "metadata": {},
   "outputs": [
    {
     "name": "stderr",
     "output_type": "stream",
     "text": [
      "c:\\Users\\rjk217\\Miniconda3\\envs\\guidestar\\lib\\site-packages\\lightning\\pytorch\\trainer\\connectors\\checkpoint_connector.py:145: `.test(ckpt_path=None)` was called without a model. The best model of the previous `fit` call will be used. You can pass `.test(ckpt_path='best')` to use the best model or `.test(ckpt_path='last')` to use the last model. If you pass a value, this warning will be silenced.\n",
      "Restoring states from the checkpoint path at c:\\Users\\rjk217\\OneDrive - University of Exeter\\Documents\\raman-cnn\\lightning_logs\\version_2\\checkpoints\\epoch=49-step=1850.ckpt\n",
      "Loaded model weights from the checkpoint at c:\\Users\\rjk217\\OneDrive - University of Exeter\\Documents\\raman-cnn\\lightning_logs\\version_2\\checkpoints\\epoch=49-step=1850.ckpt\n",
      "c:\\Users\\rjk217\\Miniconda3\\envs\\guidestar\\lib\\site-packages\\lightning\\pytorch\\trainer\\connectors\\data_connector.py:441: The 'test_dataloader' does not have many workers which may be a bottleneck. Consider increasing the value of the `num_workers` argument` to `num_workers=23` in the `DataLoader` to improve performance.\n"
     ]
    },
    {
     "data": {
      "application/vnd.jupyter.widget-view+json": {
       "model_id": "ea16edc175d2470a8dc1b25ef42217d8",
       "version_major": 2,
       "version_minor": 0
      },
      "text/plain": [
       "Testing: |          | 0/? [00:00<?, ?it/s]"
      ]
     },
     "metadata": {},
     "output_type": "display_data"
    },
    {
     "data": {
      "text/plain": [
       "[{}]"
      ]
     },
     "execution_count": 14,
     "metadata": {},
     "output_type": "execute_result"
    }
   ],
   "source": [
    "trainer.test(datamodule=datamodule)"
   ]
  },
  {
   "cell_type": "code",
   "execution_count": 10,
   "metadata": {},
   "outputs": [
    {
     "ename": "NameError",
     "evalue": "name 'test_loader' is not defined",
     "output_type": "error",
     "traceback": [
      "\u001b[1;31m---------------------------------------------------------------------------\u001b[0m",
      "\u001b[1;31mNameError\u001b[0m                                 Traceback (most recent call last)",
      "\u001b[1;32mc:\\Users\\rjk217\\OneDrive - University of Exeter\\Documents\\raman-cnn\\raman-classifier-2.ipynb Cell 10\u001b[0m line \u001b[0;36m3\n\u001b[0;32m      <a href='vscode-notebook-cell:/c%3A/Users/rjk217/OneDrive%20-%20University%20of%20Exeter/Documents/raman-cnn/raman-classifier-2.ipynb#X22sZmlsZQ%3D%3D?line=0'>1</a>\u001b[0m font_dict \u001b[39m=\u001b[39m {\u001b[39m'\u001b[39m\u001b[39mcolor\u001b[39m\u001b[39m'\u001b[39m: \u001b[39m'\u001b[39m\u001b[39mblack\u001b[39m\u001b[39m'\u001b[39m}\n\u001b[0;32m      <a href='vscode-notebook-cell:/c%3A/Users/rjk217/OneDrive%20-%20University%20of%20Exeter/Documents/raman-cnn/raman-classifier-2.ipynb#X22sZmlsZQ%3D%3D?line=1'>2</a>\u001b[0m i \u001b[39m=\u001b[39m \u001b[39m0\u001b[39m\n\u001b[1;32m----> <a href='vscode-notebook-cell:/c%3A/Users/rjk217/OneDrive%20-%20University%20of%20Exeter/Documents/raman-cnn/raman-classifier-2.ipynb#X22sZmlsZQ%3D%3D?line=2'>3</a>\u001b[0m \u001b[39mfor\u001b[39;00m x_test, y_test \u001b[39min\u001b[39;00m test_loader\u001b[39m.\u001b[39mdataset:\n\u001b[0;32m      <a href='vscode-notebook-cell:/c%3A/Users/rjk217/OneDrive%20-%20University%20of%20Exeter/Documents/raman-cnn/raman-classifier-2.ipynb#X22sZmlsZQ%3D%3D?line=3'>4</a>\u001b[0m     plt\u001b[39m.\u001b[39mplot(np\u001b[39m.\u001b[39mlinspace(\u001b[39m100\u001b[39m, \u001b[39m4278\u001b[39m, \u001b[39m2090\u001b[39m), x_test)\n\u001b[0;32m      <a href='vscode-notebook-cell:/c%3A/Users/rjk217/OneDrive%20-%20University%20of%20Exeter/Documents/raman-cnn/raman-classifier-2.ipynb#X22sZmlsZQ%3D%3D?line=4'>5</a>\u001b[0m     \u001b[39mwith\u001b[39;00m torch\u001b[39m.\u001b[39mno_grad():\n",
      "\u001b[1;31mNameError\u001b[0m: name 'test_loader' is not defined"
     ]
    }
   ],
   "source": [
    "font_dict = {'color': 'black'}\n",
    "i = 0\n",
    "for x_test, y_test in test_loader.dataset:\n",
    "    plt.plot(np.linspace(100, 4278, 2090), x_test)\n",
    "    with torch.no_grad():\n",
    "        y_pred = label_decoder(lightning_model(x_test).numpy())\n",
    "    true_value = label_decoder(y_test)\n",
    "    font_dict['color'] = \"black\" if y_pred == true_value else 'red'\n",
    "    plt.title(\n",
    "        f\"Predicted: {y_pred}, Truth: {true_value}\", fontdict=font_dict)\n",
    "    plt.tight_layout()\n",
    "    plt.show()\n",
    "\n",
    "    if i > 4:\n",
    "        break\n",
    "    i+=1\n",
    "    "
   ]
  }
 ],
 "metadata": {
  "kernelspec": {
   "display_name": "guidestar",
   "language": "python",
   "name": "python3"
  },
  "language_info": {
   "codemirror_mode": {
    "name": "ipython",
    "version": 3
   },
   "file_extension": ".py",
   "mimetype": "text/x-python",
   "name": "python",
   "nbconvert_exporter": "python",
   "pygments_lexer": "ipython3",
   "version": "3.9.18"
  }
 },
 "nbformat": 4,
 "nbformat_minor": 2
}
